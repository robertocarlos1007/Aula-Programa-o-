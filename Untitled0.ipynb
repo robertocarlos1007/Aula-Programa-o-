{
  "nbformat": 4,
  "nbformat_minor": 0,
  "metadata": {
    "colab": {
      "provenance": [],
      "toc_visible": true,
      "authorship_tag": "ABX9TyOFDETPgcDfKKLzic1TFZ2E",
      "include_colab_link": true
    },
    "kernelspec": {
      "name": "python3",
      "display_name": "Python 3"
    },
    "language_info": {
      "name": "python"
    }
  },
  "cells": [
    {
      "cell_type": "markdown",
      "metadata": {
        "id": "view-in-github",
        "colab_type": "text"
      },
      "source": [
        "<a href=\"https://colab.research.google.com/github/robertocarlos1007/Aula-Programa-o-/blob/main/Untitled0.ipynb\" target=\"_parent\"><img src=\"https://colab.research.google.com/assets/colab-badge.svg\" alt=\"Open In Colab\"/></a>"
      ]
    },
    {
      "cell_type": "code",
      "execution_count": 11,
      "metadata": {
        "colab": {
          "base_uri": "https://localhost:8080/"
        },
        "id": "eTiVEtlit1ga",
        "outputId": "9a2624ef-f0d2-4426-b704-fc019943638e"
      },
      "outputs": [
        {
          "output_type": "stream",
          "name": "stdout",
          "text": [
            "opa opa opa\n"
          ]
        }
      ],
      "source": [
        "print (\"opa opa opa\")"
      ]
    },
    {
      "cell_type": "code",
      "source": [
        "#variaveis\n",
        "nome = \"Roberto Carlos\"\n",
        "print(nome)"
      ],
      "metadata": {
        "colab": {
          "base_uri": "https://localhost:8080/"
        },
        "id": "oqQBz3P5wlJO",
        "outputId": "c89fbcd1-38d3-40cd-8ca2-8636dee2a8fc"
      },
      "execution_count": 7,
      "outputs": [
        {
          "output_type": "stream",
          "name": "stdout",
          "text": [
            "Roberto Carlos\n"
          ]
        }
      ]
    },
    {
      "cell_type": "code",
      "source": [],
      "metadata": {
        "id": "8YMwI6jw2iib"
      },
      "execution_count": null,
      "outputs": []
    },
    {
      "cell_type": "code",
      "source": [
        "#mat com variaveis\n",
        "a = 1\n",
        "b = 2\n",
        "c = 5\n",
        "soma = a + b + c\n",
        "subtracao = a - b - c\n",
        "multiplicacao = a * b * c\n",
        "divisao = a / b / c\n",
        "\n",
        "print (a + b - 2)\n",
        "print(soma)\n",
        "print(subtracao)\n",
        "print(multiplicacao)\n",
        "print(divisao)"
      ],
      "metadata": {
        "colab": {
          "base_uri": "https://localhost:8080/"
        },
        "id": "b8_7ys9Ww7oK",
        "outputId": "8f049416-3db4-4ab4-d551-49b5b03d97a9"
      },
      "execution_count": 10,
      "outputs": [
        {
          "output_type": "stream",
          "name": "stdout",
          "text": [
            "1\n",
            "8\n",
            "-6\n",
            "10\n",
            "0.1\n"
          ]
        }
      ]
    },
    {
      "cell_type": "code",
      "source": [
        "#1 pega numero de uma variavel e devolve o dobro\n",
        "\n",
        "a = 9\n",
        "dobro = a * 2\n",
        "print(dobro)"
      ],
      "metadata": {
        "colab": {
          "base_uri": "https://localhost:8080/"
        },
        "id": "7_g6WzxTzGHE",
        "outputId": "399dc777-a017-402a-d9a0-44622ba86e87"
      },
      "execution_count": 32,
      "outputs": [
        {
          "output_type": "stream",
          "name": "stdout",
          "text": [
            "18\n"
          ]
        }
      ]
    },
    {
      "cell_type": "code",
      "source": [
        "#2 ler 3 notas e devolve a media aritmetica\n",
        "\n",
        "nota1 = 7\n",
        "nota2 = 7\n",
        "nota3 = 7\n",
        "media = (nota1 + nota2 + nota3) / 3\n",
        "print(media)\n",
        "\n"
      ],
      "metadata": {
        "colab": {
          "base_uri": "https://localhost:8080/"
        },
        "id": "16A-Imrczgn8",
        "outputId": "bda9568f-7d66-469e-9e77-5faafc231184"
      },
      "execution_count": 21,
      "outputs": [
        {
          "output_type": "stream",
          "name": "stdout",
          "text": [
            "16.333333333333332\n"
          ]
        }
      ]
    },
    {
      "cell_type": "code",
      "source": [
        "#3 pede o ano de nascimento da pessoa e calcula  a idade atual dela\n",
        "nascimento = 2000\n",
        "ano_atual = 2023\n",
        "idade = nascimento - ano_atual\n",
        "print(idade)"
      ],
      "metadata": {
        "colab": {
          "base_uri": "https://localhost:8080/"
        },
        "id": "p0APJNkjz8H3",
        "outputId": "9395d941-e132-48fb-b30e-45e982ce6b6d"
      },
      "execution_count": 23,
      "outputs": [
        {
          "output_type": "stream",
          "name": "stdout",
          "text": [
            "-23\n"
          ]
        }
      ]
    },
    {
      "cell_type": "code",
      "source": [
        "#inputs\n",
        "\n",
        "nome = input('digite seu nome')\n",
        "num = int(inp0\n",
        "          \n",
        "          \n",
        "          \n",
        "          \n",
        "          \n",
        "          \n",
        "          \n",
        "          \n",
        "          \n",
        "          \n",
        "          \n",
        "          \n",
        "          \n",
        "          \n",
        "          \n",
        "          \n",
        "          \n",
        "          \n",
        "          \n",
        "          ut ('digite um numero'))\n",
        "print('Oi' +nome)\n",
        "print (num*3)\n",
        "\n"
      ],
      "metadata": {
        "id": "0K5dlsPXyLkT"
      },
      "execution_count": null,
      "outputs": []
    },
    {
      "cell_type": "code",
      "source": [],
      "metadata": {
        "id": "jDN1n3r87fe_"
      },
      "execution_count": null,
      "outputs": []
    },
    {
      "cell_type": "code",
      "source": [],
      "metadata": {
        "id": "d--71nH06Azp"
      },
      "execution_count": null,
      "outputs": []
    }
  ]
}