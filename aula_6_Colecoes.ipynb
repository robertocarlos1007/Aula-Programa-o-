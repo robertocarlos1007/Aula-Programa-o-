{
  "nbformat": 4,
  "nbformat_minor": 0,
  "metadata": {
    "colab": {
      "provenance": [],
      "authorship_tag": "ABX9TyPuaGIwmy5/5HwnWDwSGDMQ",
      "include_colab_link": true
    },
    "kernelspec": {
      "name": "python3",
      "display_name": "Python 3"
    },
    "language_info": {
      "name": "python"
    }
  },
  "cells": [
    {
      "cell_type": "markdown",
      "metadata": {
        "id": "view-in-github",
        "colab_type": "text"
      },
      "source": [
        "<a href=\"https://colab.research.google.com/github/robertocarlos1007/Aula-Programa-o-/blob/main/aula_6_Colecoes.ipynb\" target=\"_parent\"><img src=\"https://colab.research.google.com/assets/colab-badge.svg\" alt=\"Open In Colab\"/></a>"
      ]
    },
    {
      "cell_type": "code",
      "execution_count": 34,
      "metadata": {
        "colab": {
          "base_uri": "https://localhost:8080/"
        },
        "id": "bG2Davv61KyL",
        "outputId": "04838aab-c8c9-47c1-8b4b-c94b4cc112ad"
      },
      "outputs": [
        {
          "output_type": "execute_result",
          "data": {
            "text/plain": [
              "['ze', 'tião', 'joaquim', 'julia', 'Ana', 'Zabé', 'Maria']"
            ]
          },
          "metadata": {},
          "execution_count": 34
        }
      ],
      "source": [
        "nomes = ['ze', 'tião', 'joaquim']\n",
        "nomes.append('julia')\n",
        "# #vários valores\n",
        "outrosNomes = ['Ana', 'Zabé', 'Maria']\n",
        "nomes.extend(outrosNomes)\n",
        "nomes\n",
        "\n"
      ]
    },
    {
      "cell_type": "code",
      "source": [
        "# crie uma lista com numeros\n",
        "numeros = [1,2,3,4]\n",
        "# remova o primeiro numero\n",
        "numeros.remove(numeros[0])\n",
        "# remova o último número\n",
        "numeros.pop()\n",
        "numeros"
      ],
      "metadata": {
        "colab": {
          "base_uri": "https://localhost:8080/"
        },
        "id": "kdnYFnf_1jiT",
        "outputId": "a6614935-9a9f-493f-e61a-c9d36cf8e703"
      },
      "execution_count": 35,
      "outputs": [
        {
          "output_type": "execute_result",
          "data": {
            "text/plain": [
              "[2, 3]"
            ]
          },
          "metadata": {},
          "execution_count": 35
        }
      ]
    },
    {
      "cell_type": "code",
      "source": [
        "#1 - Crie uma lista de notas, e exiba-a da menor para a maior\n",
        "# lista . sort() - ordena em ordem crescente\n",
        "numeros = [9,2,6,4]\n",
        "nomes = [\"Andre\", \"Messi\", \"Juca\"]\n",
        "numeros.sort()\n",
        "nomes.sort()\n",
        "numeros\n",
        "nomes"
      ],
      "metadata": {
        "colab": {
          "base_uri": "https://localhost:8080/"
        },
        "id": "u6omWaf41jwb",
        "outputId": "89b89b3e-cbc1-4365-8959-ae88780a2e27"
      },
      "execution_count": 36,
      "outputs": [
        {
          "output_type": "execute_result",
          "data": {
            "text/plain": [
              "['Andre', 'Juca', 'Messi']"
            ]
          },
          "metadata": {},
          "execution_count": 36
        }
      ]
    },
    {
      "cell_type": "code",
      "source": [
        "#2 - Crie uma lista de nomes de frutas e ordene-a em ordem decrescente\n",
        "# lista . sort(reverse=True) - ordena em ordem decrescente\n",
        "\n",
        "numeros = [9,2,6,4]\n",
        "nomes = [\"Andre\", \"Messi\", \"Juca\"]\n",
        "numeros.sort(reverse=True)\n",
        "nomes.sort(reverse=True)\n",
        "numeros"
      ],
      "metadata": {
        "colab": {
          "base_uri": "https://localhost:8080/"
        },
        "id": "kazhCI_g5ob9",
        "outputId": "1d0d79db-6d2c-494a-c2de-4e1eb769dea0"
      },
      "execution_count": 37,
      "outputs": [
        {
          "output_type": "execute_result",
          "data": {
            "text/plain": [
              "[9, 6, 4, 2]"
            ]
          },
          "metadata": {},
          "execution_count": 37
        }
      ]
    },
    {
      "cell_type": "code",
      "source": [
        "#Exemplo função map - cria uma nova lista com o dobro \n",
        "# função map() serve para aplicar uma função a cada elemento de uma lista, dispensando o uso de um loop (for ou while)\n",
        "#map(funcao, sequencia)\n",
        "\n",
        "# Função filter() serve para filtrar elementos de uma sequência\n",
        "\n",
        "\n",
        "numeros = [2, 3, 5, 6, 9]\n",
        "lista_nova = list(map(lambda x : x*2, numeros))\n",
        "lista_nova\n",
        "\n"
      ],
      "metadata": {
        "colab": {
          "base_uri": "https://localhost:8080/"
        },
        "id": "j59jATVq5oeq",
        "outputId": "d7b96dd6-57ef-49c0-cc4e-74eccc57ab5a"
      },
      "execution_count": 38,
      "outputs": [
        {
          "output_type": "execute_result",
          "data": {
            "text/plain": [
              "[4, 6, 10, 12, 18]"
            ]
          },
          "metadata": {},
          "execution_count": 38
        }
      ]
    },
    {
      "cell_type": "code",
      "source": [
        "# pegar cada um dos números e dividir por 3\n",
        "\n",
        "numeros = [10,50,60,71,52]\n",
        "listanova = list(map(lambda x: x/3, numeros))\n",
        "listanova"
      ],
      "metadata": {
        "colab": {
          "base_uri": "https://localhost:8080/"
        },
        "id": "1YDvX4Sg5ohd",
        "outputId": "168208c3-6e18-4995-81a1-3933c150f835"
      },
      "execution_count": 39,
      "outputs": [
        {
          "output_type": "execute_result",
          "data": {
            "text/plain": [
              "[3.3333333333333335,\n",
              " 16.666666666666668,\n",
              " 20.0,\n",
              " 23.666666666666668,\n",
              " 17.333333333333332]"
            ]
          },
          "metadata": {},
          "execution_count": 39
        }
      ]
    },
    {
      "cell_type": "code",
      "source": [
        " # pegar cada um dos números e soma por dois\n",
        "numeros = [1,2,3,4,5]\n",
        "soma = list(map(lambda x : x+2, numeros))\n",
        "soma \n"
      ],
      "metadata": {
        "colab": {
          "base_uri": "https://localhost:8080/"
        },
        "id": "4lvJ-UZ-5okb",
        "outputId": "9f70a68e-ec32-4be9-83a5-7cfe1771055b"
      },
      "execution_count": 40,
      "outputs": [
        {
          "output_type": "execute_result",
          "data": {
            "text/plain": [
              "[3, 4, 5, 6, 7]"
            ]
          },
          "metadata": {},
          "execution_count": 40
        }
      ]
    },
    {
      "cell_type": "code",
      "source": [
        "#Exemplo função filter - a partir de uma lista de nomes, criar uma nova lista apenas com palavras com mais de 5 caracteres\n",
        "\n",
        "\n",
        "nomes = ['josé', 'joaquim', 'Sebastião', 'Angélica', 'Leonardo', 'Luana', 'Bárbara']\n",
        "listanova = list(filter(lambda x : len(x)>5, nomes))\n",
        "listanova"
      ],
      "metadata": {
        "colab": {
          "base_uri": "https://localhost:8080/"
        },
        "id": "Q1CE-MB_5oos",
        "outputId": "d3eb65c4-861c-43ce-aa62-99a1e5f0e43c"
      },
      "execution_count": 41,
      "outputs": [
        {
          "output_type": "execute_result",
          "data": {
            "text/plain": [
              "['joaquim', 'Sebastião', 'Angélica', 'Leonardo', 'Bárbara']"
            ]
          },
          "metadata": {},
          "execution_count": 41
        }
      ]
    },
    {
      "cell_type": "code",
      "source": [
        "# crie uma lista de notas, imprime as maiores que 6\n",
        "\n",
        "notas = [7,5,8,9,7,10,5,6,4,8,7]\n",
        "notas2 = list(filter(lambda x : x > 6, notas))\n",
        "notas2\n"
      ],
      "metadata": {
        "colab": {
          "base_uri": "https://localhost:8080/"
        },
        "id": "7FDkoo4s1j2S",
        "outputId": "73541399-3b62-4129-f4e5-e14d01fec5c1"
      },
      "execution_count": 42,
      "outputs": [
        {
          "output_type": "execute_result",
          "data": {
            "text/plain": [
              "[7, 8, 9, 7, 10, 8, 7]"
            ]
          },
          "metadata": {},
          "execution_count": 42
        }
      ]
    },
    {
      "cell_type": "code",
      "source": [
        "#1 Dada uma lista de números, retorne uma lista contendo o quadrado de cada número.\n",
        "\n",
        "numeros = [2,4,6,8,10]\n",
        "novalista = list(map(lambda x : x**2, numeros))\n",
        "novalista\n",
        "\n"
      ],
      "metadata": {
        "colab": {
          "base_uri": "https://localhost:8080/"
        },
        "id": "qswt9j5iIuOY",
        "outputId": "865024ba-3f18-4875-e6fd-c6f5fb7d66d5"
      },
      "execution_count": 44,
      "outputs": [
        {
          "output_type": "execute_result",
          "data": {
            "text/plain": [
              "[4, 16, 36, 64, 100]"
            ]
          },
          "metadata": {},
          "execution_count": 44
        }
      ]
    },
    {
      "cell_type": "code",
      "source": [
        "#2 Dada uma lista de nomes, retorne uma lista contendo o tamanho de cada nome.\n",
        "\n",
        "nomes = ['josé', 'joaquim', 'Sebastião', 'Angélica', 'Leonardo', 'Luana', 'Bárbara']\n",
        "novalista = list(map(lambda x : len(x), nomes))\n",
        "novalista"
      ],
      "metadata": {
        "colab": {
          "base_uri": "https://localhost:8080/"
        },
        "id": "MfagdWD3J0ra",
        "outputId": "1872aea9-3110-422c-fc96-67c999fe0dc0"
      },
      "execution_count": 45,
      "outputs": [
        {
          "output_type": "execute_result",
          "data": {
            "text/plain": [
              "[4, 7, 9, 8, 8, 5, 7]"
            ]
          },
          "metadata": {},
          "execution_count": 45
        }
      ]
    },
    {
      "cell_type": "code",
      "source": [
        "# 3 cada uma lista de números, retorne uma lista contendo apenas os números pares.\n",
        "\n",
        "numeros = [2,3,5,4,6,8,10]\n",
        "listanova = list(filter(lambda x : x%2 == 0, numeros))\n",
        "listanova"
      ],
      "metadata": {
        "colab": {
          "base_uri": "https://localhost:8080/"
        },
        "id": "G4r2dNdYK0_L",
        "outputId": "4c927347-6822-49ce-bec9-e61fe5a61e23"
      },
      "execution_count": 46,
      "outputs": [
        {
          "output_type": "execute_result",
          "data": {
            "text/plain": [
              "[2, 4, 6, 8, 10]"
            ]
          },
          "metadata": {},
          "execution_count": 46
        }
      ]
    },
    {
      "cell_type": "code",
      "source": [
        "# 4 Dada uma lista de nomes, retorne uma lista contendo apenas os nomes que começam com a letra \"A\".\n",
        "\n",
        "nomes = ['josé', 'joaquim', 'Sebastião', 'Angélica', 'Leonardo', 'Luana', 'Bárbara']\n",
        "listanova = list(filter(lambda x: (x[0] == 'A'), nomes))\n",
        "listanova"
      ],
      "metadata": {
        "colab": {
          "base_uri": "https://localhost:8080/"
        },
        "id": "htc7ANymLRjV",
        "outputId": "6d5d96b9-f9a6-4db2-feec-e06550f2904b"
      },
      "execution_count": 47,
      "outputs": [
        {
          "output_type": "execute_result",
          "data": {
            "text/plain": [
              "['Angélica']"
            ]
          },
          "metadata": {},
          "execution_count": 47
        }
      ]
    },
    {
      "cell_type": "code",
      "source": [
        "#5 Recebe uma lista com notas de alunos, retorna apenas os aprovados (nota maior ou igual a 7)\n",
        "numeros = [2,3,5,4,6,8,10]\n",
        "listanova = list(filter(lambda x: x>=7, numeros))\n",
        "listanova "
      ],
      "metadata": {
        "colab": {
          "base_uri": "https://localhost:8080/"
        },
        "id": "0prcoRf5NNDB",
        "outputId": "822e89b8-7998-471c-c7a9-cf31208da97f"
      },
      "execution_count": 48,
      "outputs": [
        {
          "output_type": "execute_result",
          "data": {
            "text/plain": [
              "[8, 10]"
            ]
          },
          "metadata": {},
          "execution_count": 48
        }
      ]
    },
    {
      "cell_type": "code",
      "source": [
        "# 7 Recebe uma lista de nomes, retorna apenas os que começam com vogal\n",
        "nomes = ['josé', 'joaquim', 'Sebastião', 'Angélica', 'Leonardo', 'Luana', 'Bárbara']\n",
        "listanova = list(filter(lambda x:  x[0].upper() in 'AEIOU', nomes ))\n",
        "listanova\n",
        "\n"
      ],
      "metadata": {
        "colab": {
          "base_uri": "https://localhost:8080/"
        },
        "id": "1QAcqEvFONc6",
        "outputId": "5719443e-192f-4338-a14b-5c55be497402"
      },
      "execution_count": 49,
      "outputs": [
        {
          "output_type": "execute_result",
          "data": {
            "text/plain": [
              "['Angélica']"
            ]
          },
          "metadata": {},
          "execution_count": 49
        }
      ]
    }
  ]
}