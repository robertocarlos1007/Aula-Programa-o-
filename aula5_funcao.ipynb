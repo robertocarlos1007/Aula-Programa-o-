{
  "nbformat": 4,
  "nbformat_minor": 0,
  "metadata": {
    "colab": {
      "provenance": [],
      "authorship_tag": "ABX9TyORIUIYj2P/kgSSgGtkDUeT",
      "include_colab_link": true
    },
    "kernelspec": {
      "name": "python3",
      "display_name": "Python 3"
    },
    "language_info": {
      "name": "python"
    }
  },
  "cells": [
    {
      "cell_type": "markdown",
      "metadata": {
        "id": "view-in-github",
        "colab_type": "text"
      },
      "source": [
        "<a href=\"https://colab.research.google.com/github/robertocarlos1007/Aula-Programa-o-/blob/main/aula5_funcao.ipynb\" target=\"_parent\"><img src=\"https://colab.research.google.com/assets/colab-badge.svg\" alt=\"Open In Colab\"/></a>"
      ]
    },
    {
      "cell_type": "code",
      "execution_count": null,
      "metadata": {
        "colab": {
          "base_uri": "https://localhost:8080/"
        },
        "id": "AaZUgNrY27YI",
        "outputId": "ebb98034-570e-4238-f3d5-6a2ae018815d"
      },
      "outputs": [
        {
          "output_type": "stream",
          "name": "stdout",
          "text": [
            "................................\n"
          ]
        }
      ],
      "source": [
        "def primeirafuncao():\n",
        "  print(\"................................\")\n",
        "\n",
        "primeirafuncao()\n",
        "\n"
      ]
    },
    {
      "cell_type": "code",
      "source": [
        "# pronome=parametros\n",
        "\n",
        "def pronometratam(pronome):\n",
        "  print(pronome, \"Pablo\")\n",
        "\n",
        "pronometratam ('Doutor')\n",
        "pronometratam ('Ilmo')\n",
        "pronometratam ('Seu')\n",
        "pronometratam"
      ],
      "metadata": {
        "colab": {
          "base_uri": "https://localhost:8080/"
        },
        "id": "SVIyO3VR4fGA",
        "outputId": "65690e66-e2b8-498b-d2f1-bc45d6f7a0b8"
      },
      "execution_count": null,
      "outputs": [
        {
          "output_type": "stream",
          "name": "stdout",
          "text": [
            "Doutor Pablo\n",
            "Ilmo Pablo\n",
            "Seu Pablo\n"
          ]
        },
        {
          "output_type": "execute_result",
          "data": {
            "text/plain": [
              "<function __main__.pronometratam(pronome)>"
            ]
          },
          "metadata": {},
          "execution_count": 75
        }
      ]
    },
    {
      "cell_type": "code",
      "source": [
        "def boasvindas(nome, cargo):\n",
        "  print(f'Ola, {cargo} {nome}')\n",
        "\n",
        "boasvindas ('Ju', 'Soldado')\n",
        "boasvindas('Ja', 'Cabo')\n",
        "boasvindas ('Jo', 'General')\n",
        "\n",
        "\n"
      ],
      "metadata": {
        "colab": {
          "base_uri": "https://localhost:8080/"
        },
        "id": "xJr4AKPJ6TGw",
        "outputId": "1a081650-6ff9-4905-bda3-5daf6814d158"
      },
      "execution_count": null,
      "outputs": [
        {
          "output_type": "stream",
          "name": "stdout",
          "text": [
            "Ola, Soldado Ju\n",
            "Ola, Cabo Ja\n",
            "Ola, General Jo\n"
          ]
        }
      ]
    },
    {
      "cell_type": "code",
      "source": [
        "def dados(nome, anonascimento):\n",
        "  idade = 2023 - anonascimento\n",
        "  print(nome, idade)\n",
        "\n",
        "dados('oi', 2007)\n"
      ],
      "metadata": {
        "colab": {
          "base_uri": "https://localhost:8080/"
        },
        "id": "dv3NUiJb7iJn",
        "outputId": "dc9042c7-5ab5-4280-c4d8-e5bb5c9c2507"
      },
      "execution_count": null,
      "outputs": [
        {
          "output_type": "stream",
          "name": "stdout",
          "text": [
            "oi 16\n"
          ]
        }
      ]
    },
    {
      "cell_type": "code",
      "source": [
        "# * antes do parametro, devido que nao sabemos quantos valores serao armazenados\n",
        "\n",
        "def somanotas(*notas):\n",
        "  soma = 0\n",
        "  for nota in notas:\n",
        "    soma += nota\n",
        "  print(soma/ len(notas))\n",
        "\n",
        "somanotas(1,2,3,5,4,)\n"
      ],
      "metadata": {
        "id": "KRJR6c669jkn"
      },
      "execution_count": null,
      "outputs": []
    },
    {
      "cell_type": "code",
      "source": [
        "def imc(peso,altura):\n",
        "  return peso/altura**2\n",
        "\n",
        "imc (77, 1.75)"
      ],
      "metadata": {
        "colab": {
          "base_uri": "https://localhost:8080/"
        },
        "id": "RCbSIMcfC9td",
        "outputId": "80c0174d-e837-4ba8-bf73-0736e2561bff"
      },
      "execution_count": null,
      "outputs": [
        {
          "output_type": "execute_result",
          "data": {
            "text/plain": [
              "25.142857142857142"
            ]
          },
          "metadata": {},
          "execution_count": 101
        }
      ]
    },
    {
      "cell_type": "code",
      "source": [
        "def situacaopeso(imc):\n",
        "  if(imc < 18.5):\n",
        "    print('abaixo do peso normal')\n",
        "  elif (imc < 24.9):\n",
        "     print('peso normal')\n",
        "  else:\n",
        "    print('obesidade')\n",
        "\n",
        "situacaopeso(imc(83, 1.65))\n",
        "\n"
      ],
      "metadata": {
        "colab": {
          "base_uri": "https://localhost:8080/"
        },
        "id": "fw-yd6XGEUwf",
        "outputId": "8c47b408-f927-4d76-f0a7-5dc5d1270e7f"
      },
      "execution_count": null,
      "outputs": [
        {
          "output_type": "stream",
          "name": "stdout",
          "text": [
            "obesidade\n"
          ]
        }
      ]
    },
    {
      "cell_type": "code",
      "source": [
        "def soma(a,b):\n",
        "  return a + b\n",
        "\n",
        "def sub(a,b):\n",
        "  return a - b\n",
        "\n",
        "def mul(a,b):\n",
        "  return a * b\n",
        "\n",
        "def div(a,b):\n",
        "  return a / b\n",
        "\n"
      ],
      "metadata": {
        "id": "dW3-eC2KEvRD"
      },
      "execution_count": null,
      "outputs": []
    },
    {
      "cell_type": "code",
      "source": [
        "# j = c * i * t"
      ],
      "metadata": {
        "id": "oa3gOo14Hwr8"
      },
      "execution_count": null,
      "outputs": []
    }
  ]
}