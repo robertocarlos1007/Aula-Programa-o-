{
  "nbformat": 4,
  "nbformat_minor": 0,
  "metadata": {
    "colab": {
      "provenance": [],
      "authorship_tag": "ABX9TyPEbK/G7pBGUH+v5RYWp5Bh",
      "include_colab_link": true
    },
    "kernelspec": {
      "name": "python3",
      "display_name": "Python 3"
    },
    "language_info": {
      "name": "python"
    }
  },
  "cells": [
    {
      "cell_type": "markdown",
      "metadata": {
        "id": "view-in-github",
        "colab_type": "text"
      },
      "source": [
        "<a href=\"https://colab.research.google.com/github/robertocarlos1007/Aula-Programa-o-/blob/main/aula_4.ipynb\" target=\"_parent\"><img src=\"https://colab.research.google.com/assets/colab-badge.svg\" alt=\"Open In Colab\"/></a>"
      ]
    },
    {
      "cell_type": "code",
      "execution_count": 11,
      "metadata": {
        "colab": {
          "base_uri": "https://localhost:8080/"
        },
        "id": "yksMSycdoCBe",
        "outputId": "8da0c50f-4f2c-48d3-dc17-0989b8b8289b"
      },
      "outputs": [
        {
          "output_type": "stream",
          "name": "stdout",
          "text": [
            "True\n",
            "True\n",
            "False\n",
            "False\n",
            "True\n"
          ]
        }
      ],
      "source": [
        "# tipos booleanos\n",
        "print(100 == (50+50))\n",
        "print(100 >= (50+50))\n",
        "print(100 > (50+50))\n",
        "print(100 != (50+50))\n",
        "print(100 != 99)"
      ]
    },
    {
      "cell_type": "code",
      "source": [
        "# se a idade for maior ou igual a 16, exibe: Pode tirar habilitação\n",
        "\n",
        "idade = int(input('Digite a idade: '))\n",
        "if (idade >= 16):\n",
        "  print('Pode tirar habilitação')\n",
        "else:\n",
        "  print('Não pode tirar')\n",
        "  "
      ],
      "metadata": {
        "colab": {
          "base_uri": "https://localhost:8080/"
        },
        "id": "TKTQqNL4pZ4s",
        "outputId": "bca999a6-586f-47f2-b22a-c068c86aa32d"
      },
      "execution_count": 21,
      "outputs": [
        {
          "output_type": "stream",
          "name": "stdout",
          "text": [
            "Digite a idade: 4\n",
            "Não pode tirar\n"
          ]
        }
      ]
    },
    {
      "cell_type": "code",
      "source": [
        "# se for do sexo feminino \"F\", e tiver 55 anos ou mais, pode se aposentar\n",
        "# se for do sexo masculino \"M\", e tiver 60 anos ou mais, pode se aposentar\n",
        "sexo = 'M'\n",
        "idade = 61\n",
        "if (sexo == 'F' and idade >=55):\n",
        "  print('Pode se aposentar')\n",
        "elif (sexo == 'M' and idade >=60):\n",
        "  print('Pode se aposentar')\n",
        "else:\n",
        "  print('Ainda não pode')"
      ],
      "metadata": {
        "colab": {
          "base_uri": "https://localhost:8080/"
        },
        "id": "aOo7V4Rbqp4Q",
        "outputId": "c1792327-71d8-4be1-bbb0-efb5079a1795"
      },
      "execution_count": 26,
      "outputs": [
        {
          "output_type": "stream",
          "name": "stdout",
          "text": [
            "Pode se aposentar\n"
          ]
        }
      ]
    },
    {
      "cell_type": "code",
      "source": [
        "# versão2.0\n",
        "# se for do sexo feminino \"F\", e tiver 55 anos ou mais, pode se aposentar\n",
        "# se for do sexo masculino \"M\", e tiver 60 anos ou mais, pode se aposentar\n",
        "\n",
        "sexo = input('Insira o sexo: m (masculino) ou f (feminino): ')\n",
        "idade = int(input('Digite sua idade: '))\n",
        "if (sexo == 'm' and idade >= 60) or (sexo == 'f' and idade >=55):\n",
        "  print('Pode se aposentar')\n",
        "else:\n",
        "  print('Não pode se aposentar')\n",
        "\n"
      ],
      "metadata": {
        "colab": {
          "base_uri": "https://localhost:8080/"
        },
        "id": "wz2e9-nns_Ji",
        "outputId": "5e807c82-ec17-4b62-af9d-363b7e3ec6ed"
      },
      "execution_count": 40,
      "outputs": [
        {
          "output_type": "stream",
          "name": "stdout",
          "text": [
            "Insira o sexo: m (masculino) ou f (feminino): 25\n",
            "Digite sua idade: 5\n",
            "Não pode se aposentar\n"
          ]
        }
      ]
    },
    {
      "cell_type": "code",
      "source": [],
      "metadata": {
        "id": "UVjkfB5uv13t"
      },
      "execution_count": null,
      "outputs": []
    }
  ]
}