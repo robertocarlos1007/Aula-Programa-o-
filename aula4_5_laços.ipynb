{
  "nbformat": 4,
  "nbformat_minor": 0,
  "metadata": {
    "colab": {
      "provenance": [],
      "authorship_tag": "ABX9TyMHsk/+mRZIgy6XthRhJB7w",
      "include_colab_link": true
    },
    "kernelspec": {
      "name": "python3",
      "display_name": "Python 3"
    },
    "language_info": {
      "name": "python"
    }
  },
  "cells": [
    {
      "cell_type": "markdown",
      "metadata": {
        "id": "view-in-github",
        "colab_type": "text"
      },
      "source": [
        "<a href=\"https://colab.research.google.com/github/robertocarlos1007/Aula-Programa-o-/blob/main/aula4_5_la%C3%A7os.ipynb\" target=\"_parent\"><img src=\"https://colab.research.google.com/assets/colab-badge.svg\" alt=\"Open In Colab\"/></a>"
      ]
    },
    {
      "cell_type": "code",
      "execution_count": 133,
      "metadata": {
        "colab": {
          "base_uri": "https://localhost:8080/"
        },
        "id": "js1bAfsptMaS",
        "outputId": "70c130a5-9d30-4409-a0f1-bea9397a123a"
      },
      "outputs": [
        {
          "output_type": "execute_result",
          "data": {
            "text/plain": [
              "[150, 175, 200, 225]"
            ]
          },
          "metadata": {},
          "execution_count": 133
        }
      ],
      "source": [
        "numeros = []\n",
        "\n",
        "for numero in range(150,250,25):\n",
        "  numeros.append(numero)\n",
        "\n",
        "numeros\n",
        "                "
      ]
    },
    {
      "cell_type": "code",
      "source": [
        "# Para usar a bibliotecar Random, é preciso importá-la\n",
        "import random\n",
        "\n",
        "#Criar uma lista com tamanho aleatório (entre 0 a 50)\n",
        "\n",
        "numeros2 = []\n",
        "for num in range(random.randrange(50)):\n",
        "  numeros2.append(num)\n",
        "\n",
        "numeros2"
      ],
      "metadata": {
        "colab": {
          "base_uri": "https://localhost:8080/"
        },
        "id": "W9ynIEvRwSzd",
        "outputId": "32b42a86-d6f6-4f29-e097-15a9ab064aca"
      },
      "execution_count": 43,
      "outputs": [
        {
          "output_type": "execute_result",
          "data": {
            "text/plain": [
              "[0,\n",
              " 1,\n",
              " 2,\n",
              " 3,\n",
              " 4,\n",
              " 5,\n",
              " 6,\n",
              " 7,\n",
              " 8,\n",
              " 9,\n",
              " 10,\n",
              " 11,\n",
              " 12,\n",
              " 13,\n",
              " 14,\n",
              " 15,\n",
              " 16,\n",
              " 17,\n",
              " 18,\n",
              " 19,\n",
              " 20,\n",
              " 21,\n",
              " 22,\n",
              " 23,\n",
              " 24,\n",
              " 25,\n",
              " 26]"
            ]
          },
          "metadata": {},
          "execution_count": 43
        }
      ]
    },
    {
      "cell_type": "code",
      "source": [
        "# descobir se um número é par ou ímpar\n",
        "\n",
        "a = int(input('Digite um número:'))\n",
        "\n",
        "if a%2 == 0:\n",
        "  print('É par')\n",
        "else:\n",
        "  print('É ímpar')"
      ],
      "metadata": {
        "colab": {
          "base_uri": "https://localhost:8080/"
        },
        "id": "W-AbDSDyy0L9",
        "outputId": "f265ee42-52b6-44ae-c236-ee39d0eed212"
      },
      "execution_count": 49,
      "outputs": [
        {
          "output_type": "stream",
          "name": "stdout",
          "text": [
            "Digite um número:2555556\n",
            "É par\n"
          ]
        }
      ]
    },
    {
      "cell_type": "code",
      "source": [
        "# printar os números pares entre 0 e 50\n",
        "\n",
        "pares = []\n",
        "\n",
        "for par in range(51): \n",
        "  if (par%2 == 0):\n",
        "    pares.append(par)\n"
      ],
      "metadata": {
        "id": "QnWjX1Mz06AP"
      },
      "execution_count": 136,
      "outputs": []
    },
    {
      "cell_type": "code",
      "source": [
        "pares = []\n",
        "for par in range(51):\n",
        "  if(par % 2 == 0):\n",
        "    pares.append(par)\n",
        "\n",
        "pares"
      ],
      "metadata": {
        "colab": {
          "base_uri": "https://localhost:8080/"
        },
        "id": "ty7ZoIGN3O4V",
        "outputId": "636495cb-f051-48d2-ded1-ada2861d9fab"
      },
      "execution_count": 137,
      "outputs": [
        {
          "output_type": "execute_result",
          "data": {
            "text/plain": [
              "[0,\n",
              " 2,\n",
              " 4,\n",
              " 6,\n",
              " 8,\n",
              " 10,\n",
              " 12,\n",
              " 14,\n",
              " 16,\n",
              " 18,\n",
              " 20,\n",
              " 22,\n",
              " 24,\n",
              " 26,\n",
              " 28,\n",
              " 30,\n",
              " 32,\n",
              " 34,\n",
              " 36,\n",
              " 38,\n",
              " 40,\n",
              " 42,\n",
              " 44,\n",
              " 46,\n",
              " 48,\n",
              " 50]"
            ]
          },
          "metadata": {},
          "execution_count": 137
        }
      ]
    },
    {
      "cell_type": "code",
      "source": [
        "#retorne a soma dos numeros de 1 a 100\n",
        "# 0 + 1 = 1\n",
        "# 1 + 2 = 3\n",
        "# 3 + 3 = 6\n",
        "\n",
        "\n",
        "soma = 0\n",
        "\n",
        "for num in range(1,101):\n",
        "  soma = soma+num\n",
        "\n",
        "soma"
      ],
      "metadata": {
        "colab": {
          "base_uri": "https://localhost:8080/"
        },
        "id": "b_eAwQcl3rTj",
        "outputId": "2a356ebf-04d0-4c9b-888e-0af72383ed00"
      },
      "execution_count": 124,
      "outputs": [
        {
          "output_type": "execute_result",
          "data": {
            "text/plain": [
              "5050"
            ]
          },
          "metadata": {},
          "execution_count": 124
        }
      ]
    },
    {
      "cell_type": "code",
      "source": [
        "# criar um programa que lista os números de 1 a 10\n",
        "\n",
        "contador = 0\n",
        "\n",
        "while(contador < 10): #condição de parada\n",
        "   print(contador +1)\n",
        "   contador+=1"
      ],
      "metadata": {
        "colab": {
          "base_uri": "https://localhost:8080/"
        },
        "id": "3XAzs38h7sLV",
        "outputId": "befbbed9-20dc-4fca-aff9-9ee48020c271"
      },
      "execution_count": 175,
      "outputs": [
        {
          "output_type": "stream",
          "name": "stdout",
          "text": [
            "1\n",
            "2\n",
            "3\n",
            "4\n",
            "5\n",
            "6\n",
            "7\n",
            "8\n",
            "9\n",
            "10\n"
          ]
        }
      ]
    },
    {
      "cell_type": "code",
      "source": [
        "# pede ao usuario para inserir um numero inteiro maior que 1\n",
        "# o programa deve imprimir todos os numeros ate o numero digitado\n",
        "\n",
        "\n",
        "contador = 0\n",
        "numero = int(input('Digite um número maior que 1: '))\n",
        "\n",
        "while (contador <= numero):\n",
        "  print(contador)\n",
        "  contador+=1\n",
        "\n"
      ],
      "metadata": {
        "colab": {
          "base_uri": "https://localhost:8080/"
        },
        "id": "eZoJ1g22-oPO",
        "outputId": "2834a6f6-f33d-4e32-a346-cbc871a28d0e"
      },
      "execution_count": 193,
      "outputs": [
        {
          "output_type": "stream",
          "name": "stdout",
          "text": [
            "Digite um número maior que 1: 2\n",
            "0\n",
            "1\n",
            "2\n"
          ]
        }
      ]
    },
    {
      "cell_type": "code",
      "source": [
        "# fazer uma lista de compra, encerra caso digite 0.\n",
        "\n",
        "compralista = []\n",
        "\n",
        "item = input('Digite o item: ')\n",
        "\n",
        "while (item != '0'):\n",
        "  compralista.append(item)\n",
        "  item = input('Digite o item: ')\n",
        "\n",
        "compralista\n",
        "\n",
        "\n",
        "\n"
      ],
      "metadata": {
        "colab": {
          "base_uri": "https://localhost:8080/"
        },
        "id": "JAE7s3FqDTW_",
        "outputId": "faa406dc-96cd-480a-bc1e-e9c5c2f1a661"
      },
      "execution_count": 194,
      "outputs": [
        {
          "name": "stdout",
          "output_type": "stream",
          "text": [
            "Digite o item: Arroz\n",
            "Digite o item: Ovo\n",
            "Digite o item: 0\n"
          ]
        },
        {
          "output_type": "execute_result",
          "data": {
            "text/plain": [
              "['Arroz', 'Ovo']"
            ]
          },
          "metadata": {},
          "execution_count": 194
        }
      ]
    },
    {
      "cell_type": "code",
      "source": [],
      "metadata": {
        "id": "8zNLMqg9ClxB"
      },
      "execution_count": null,
      "outputs": []
    }
  ]
}