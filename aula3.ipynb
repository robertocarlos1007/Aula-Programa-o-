{
  "nbformat": 4,
  "nbformat_minor": 0,
  "metadata": {
    "colab": {
      "provenance": [],
      "authorship_tag": "ABX9TyMWviOqO9+halI3oZA0liUb",
      "include_colab_link": true
    },
    "kernelspec": {
      "name": "python3",
      "display_name": "Python 3"
    },
    "language_info": {
      "name": "python"
    }
  },
  "cells": [
    {
      "cell_type": "markdown",
      "metadata": {
        "id": "view-in-github",
        "colab_type": "text"
      },
      "source": [
        "<a href=\"https://colab.research.google.com/github/robertocarlos1007/Aula-Programa-o-/blob/main/aula3.ipynb\" target=\"_parent\"><img src=\"https://colab.research.google.com/assets/colab-badge.svg\" alt=\"Open In Colab\"/></a>"
      ]
    },
    {
      "cell_type": "code",
      "execution_count": 2,
      "metadata": {
        "colab": {
          "base_uri": "https://localhost:8080/"
        },
        "id": "CH2CwHush1Yb",
        "outputId": "47f85411-f166-48c0-ee67-cf7b82631bcd"
      },
      "outputs": [
        {
          "output_type": "stream",
          "name": "stdout",
          "text": [
            "35\n",
            "-15\n",
            "250\n",
            "0.4\n",
            "10\n"
          ]
        }
      ],
      "source": [
        "a = 10\n",
        "b = 25\n",
        "\n",
        "print(a+b)\n",
        "print(a-b)\n",
        "print(a*b)\n",
        "print(a/b)\n",
        "print(a%b)"
      ]
    },
    {
      "cell_type": "code",
      "source": [
        "nome = input('Digite seu nome')\n",
        "print('Ola' +nome)\n"
      ],
      "metadata": {
        "colab": {
          "base_uri": "https://localhost:8080/"
        },
        "id": "7D24e_fmnA_t",
        "outputId": "21224d42-710d-408d-afe4-d8edc8b7bbbb"
      },
      "execution_count": 7,
      "outputs": [
        {
          "output_type": "stream",
          "name": "stdout",
          "text": [
            "Digite seu nomeoi\n",
            "Olaoi\n"
          ]
        }
      ]
    },
    {
      "cell_type": "code",
      "source": [
        "#codigo para a idade da pessoa\n",
        "\n",
        "anoNascimento = int(input('Digite o ano nascimento!'))\n",
        "print('Sua idade e:' ,2023-anoNascimento)"
      ],
      "metadata": {
        "colab": {
          "base_uri": "https://localhost:8080/"
        },
        "id": "m-VGVv79odx4",
        "outputId": "9474309c-a41c-4c76-da63-37bc2940dee0"
      },
      "execution_count": 20,
      "outputs": [
        {
          "output_type": "stream",
          "name": "stdout",
          "text": [
            "Digite o ano nascimento!2004\n",
            "Sua idade e: 19\n"
          ]
        }
      ]
    },
    {
      "cell_type": "code",
      "source": [
        "# solicita a altura e o peso de alguem, e retorna o IMC\n",
        "# IMC = peso / altura**2\n",
        "\n",
        "\n",
        "peso = float(input('Informe o seu peso: '))\n",
        "altura = float(input('Informe a sua altura: '))\n",
        "Imc = peso/altura**2\n",
        "print('O valor do seu IMC é: ' , Imc)"
      ],
      "metadata": {
        "colab": {
          "base_uri": "https://localhost:8080/"
        },
        "id": "HzEjwDWBpUMT",
        "outputId": "9e1169e7-cae9-4de2-fd17-30585f63d8b8"
      },
      "execution_count": 34,
      "outputs": [
        {
          "output_type": "stream",
          "name": "stdout",
          "text": [
            "Informe o seu peso: 50\n",
            "Informe a sua altura: 170\n",
            "O valor do seu IMC é:  0.0017301038062283738\n"
          ]
        }
      ]
    },
    {
      "cell_type": "code",
      "source": [
        "#verificar se um numero é par ou ímpar\n",
        "\n",
        "num = int(input('Digite um numero'))\n",
        "if (num%2 == 0):\n",
        " print('O numero é par!')\n",
        "else:\n",
        "  print('O número é ímpar!')\n",
        "\n"
      ],
      "metadata": {
        "colab": {
          "base_uri": "https://localhost:8080/"
        },
        "id": "Llkw1BnfuVSb",
        "outputId": "d834fe01-cfd0-48dc-8def-9e602252c976"
      },
      "execution_count": 46,
      "outputs": [
        {
          "output_type": "stream",
          "name": "stdout",
          "text": [
            "Digite um numero80\n",
            "O numero é par!\n"
          ]
        }
      ]
    },
    {
      "cell_type": "code",
      "source": [
        "#  em um campeonato de MMA, tem três categorias por peso\n",
        "# galo até 70kg\n",
        "# médio até 80kg\n",
        "# meio pesado até 90kg\n",
        "\n",
        "peso = int(input('Digite o peso do atleta'))\n",
        "if(peso <= 70):\n",
        "  print('É galo') \n",
        "elif(peso <= 80):\n",
        "  print('É médio')\n",
        "else:\n",
        "  print('É meio pesado')"
      ],
      "metadata": {
        "colab": {
          "base_uri": "https://localhost:8080/"
        },
        "id": "7rqkRMEO0h1D",
        "outputId": "bfa4e2d4-ba75-4d88-d00a-0f8cd9473094"
      },
      "execution_count": 60,
      "outputs": [
        {
          "output_type": "stream",
          "name": "stdout",
          "text": [
            "Digite o peso do atleta80\n",
            "É médio\n"
          ]
        }
      ]
    },
    {
      "cell_type": "code",
      "source": [
        "# refaça o exemplo de IMC para as seguintes regras:\n",
        "# menor que 18.5 ----- abaixo do peso normal\n",
        "# 18.5 ---- 24.9 peso normal\n",
        "# 25.0 --- 29.9 excesso de peso\n",
        "# 30.0 --- 34.9 obesidade classe 1\n",
        "# 35 ---39.9 obesidade classe 2\n",
        "# maior ou igual a 40 obesidade classe 3\n",
        "\n",
        "peso = float(input('Digite o seu peso: '))\n",
        "print (peso)\n",
        "\n",
        "altura = float(input('Digite a sua altura: '))\n",
        "print (altura)\n",
        "\n",
        "imc = peso/altura**2\n",
        "\n",
        "\n",
        "if (imc < 18.5):\n",
        "  print('Abaixo do peso normal')\n",
        "elif (imc < 25):\n",
        "  print ('Peso normal')\n",
        "elif (imc < 30):\n",
        "  print('Excesso de peso')\n",
        "elif (imc < 35):\n",
        "  print('Obsidade Classe 1')\n",
        "elif (imc < 40):\n",
        "    print('Obesidade classe 2')\n",
        "else:\n",
        "  print('Obesidade classe 3')\n",
        "print('O valor do seu IMC é:' ,imc)\n"
      ],
      "metadata": {
        "colab": {
          "base_uri": "https://localhost:8080/"
        },
        "id": "mKSCWafU2rd8",
        "outputId": "70d28adc-5998-4da4-fa8a-c3592f8a1f79"
      },
      "execution_count": 76,
      "outputs": [
        {
          "output_type": "stream",
          "name": "stdout",
          "text": [
            "Digite o seu peso: 89\n",
            "89.0\n",
            "Digite a sua altura: 1.89\n",
            "1.89\n",
            "Peso normal\n",
            "O valor do seu IMC é: 24.915315920606925\n"
          ]
        }
      ]
    },
    {
      "cell_type": "code",
      "source": [],
      "metadata": {
        "id": "53EHqehl52ip"
      },
      "execution_count": null,
      "outputs": []
    }
  ]
}