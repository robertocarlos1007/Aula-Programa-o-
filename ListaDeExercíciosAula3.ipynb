{
  "nbformat": 4,
  "nbformat_minor": 0,
  "metadata": {
    "colab": {
      "provenance": [],
      "authorship_tag": "ABX9TyMf5Dcw0qibutqaiFPntN4Q",
      "include_colab_link": true
    },
    "kernelspec": {
      "name": "python3",
      "display_name": "Python 3"
    },
    "language_info": {
      "name": "python"
    }
  },
  "cells": [
    {
      "cell_type": "markdown",
      "metadata": {
        "id": "view-in-github",
        "colab_type": "text"
      },
      "source": [
        "<a href=\"https://colab.research.google.com/github/robertocarlos1007/Aula-Programa-o-/blob/main/ListaDeExerc%C3%ADciosAula3.ipynb\" target=\"_parent\"><img src=\"https://colab.research.google.com/assets/colab-badge.svg\" alt=\"Open In Colab\"/></a>"
      ]
    },
    {
      "cell_type": "code",
      "execution_count": null,
      "metadata": {
        "colab": {
          "base_uri": "https://localhost:8080/"
        },
        "id": "8-wmEnjtE8p3",
        "outputId": "ff283b90-25ec-45fe-8bc9-5f8575601f72"
      },
      "outputs": [
        {
          "output_type": "stream",
          "name": "stdout",
          "text": [
            "Digite o valor A: 2\n",
            "Digite o valor B:2\n",
            "Digite o valor C: 5\n",
            "Os três números escolhidos são: 2.0 2.0 5.0\n",
            "O valor da soma é menor que:  5.0\n"
          ]
        }
      ],
      "source": [
        "# Desenvolva um algoritmo que solicite três números A, B e C. Imprima na tela se A+B é menor que C.\n",
        "\n",
        "a = float(input('Digite o valor A: '))\n",
        "b = float(input('Digite o valor B:'))\n",
        "c = float(input('Digite o valor C: '))\n",
        "print('Os três números escolhidos são:', +a, +b, +c)\n",
        "\n",
        "soma = a + b\n",
        "if(soma > c):\n",
        "   print('O valor da soma é maior que: ', c)\n",
        "else:\n",
        "   print('O valor da soma é menor que: ', c)"
      ]
    },
    {
      "cell_type": "code",
      "source": [
        "# Desenvolva um programa que recebe um número e informa na tela se é par ou impar.\n",
        "\n",
        "numero = int(input('Digite um número'))\n",
        "print(numero)\n",
        "\n",
        "if(numero%2 == 0):\n",
        "   print('O número é par')\n",
        "else:\n",
        "   print('O número é ímpar')"
      ],
      "metadata": {
        "colab": {
          "base_uri": "https://localhost:8080/"
        },
        "id": "lP68hV0TOZI0",
        "outputId": "f196847c-b7cf-46ec-db6a-a36b79b14bb6"
      },
      "execution_count": null,
      "outputs": [
        {
          "output_type": "stream",
          "name": "stdout",
          "text": [
            "Digite um número1000000\n",
            "1000000\n",
            "O número é par\n"
          ]
        }
      ]
    },
    {
      "cell_type": "code",
      "source": [
        "#Escreva um algoritmo que recebe um número e diz se ele é múltiplo de 3.\n",
        "\n",
        "numero = float(input('Digite um numero'))\n",
        " \n",
        "if not (numero%3):\n",
        "  print('É múltiplo de 3')\n",
        "else:\n",
        "  print('Nao é mutiplo de 3')"
      ],
      "metadata": {
        "colab": {
          "base_uri": "https://localhost:8080/"
        },
        "id": "Nv0aDoR2Pz2H",
        "outputId": "2e486734-b9f6-4467-e890-eb40b7fbba69"
      },
      "execution_count": null,
      "outputs": [
        {
          "output_type": "stream",
          "name": "stdout",
          "text": [
            "Digite um numero27\n",
            "É múltiplo de 3\n"
          ]
        }
      ]
    },
    {
      "cell_type": "code",
      "source": [
        "# Escreva um algoritmo que solicita o nome da pessoa, e o ano de nascimento. Então, calcula a idade e, se for menor que 18 anos, solicita o nome da Mãe.\n",
        "\n",
        "nome = input('Digite seu nome: ')\n",
        "print('Olá!', nome)\n",
        "anonasc = int(input('Digite seu ano de nascimento: '))\n",
        "print(anonasc)\n",
        "idade = 2023 - anonasc\n",
        "print('Sua idade é: ', idade)\n",
        "\n",
        "if (idade < 18):\n",
        "   print('Você é de menor!')\n",
        "   mae = input('Informe o nome da sua mãe: ')\n",
        "else:\n",
        "   print('E de maior')"
      ],
      "metadata": {
        "colab": {
          "base_uri": "https://localhost:8080/"
        },
        "id": "otjzAVCSlgmU",
        "outputId": "3ed81093-965d-48c0-c9bc-700d93d2c2d4"
      },
      "execution_count": null,
      "outputs": [
        {
          "output_type": "stream",
          "name": "stdout",
          "text": [
            "Digite seu nome: Roberto\n",
            "Olá! Roberto\n",
            "Digite seu ano de nascimento: 2004\n",
            "2004\n",
            "Sua idade é:  19\n",
            "E de maior\n"
          ]
        }
      ]
    },
    {
      "cell_type": "code",
      "source": [],
      "metadata": {
        "id": "WqG3pvbh4_oF"
      },
      "execution_count": null,
      "outputs": []
    },
    {
      "cell_type": "code",
      "source": [
        "\n",
        "# Faça um algoritmo que solicita um número, e retorna: O dobro caso o número seja positivo, o triplo caso o número seja negativo.\n",
        "\n",
        "numero = float(input('Informe um número: '))\n",
        "print(numero)\n",
        "\n",
        "if (numero >= 0):\n",
        "   print(numero*2)\n",
        "else: \n",
        "   (numero <= -1)\n",
        "   print(numero*3)"
      ],
      "metadata": {
        "colab": {
          "base_uri": "https://localhost:8080/"
        },
        "id": "e5ETEaMsotrv",
        "outputId": "9474b540-5862-4fc8-e6c4-07e2846fac84"
      },
      "execution_count": null,
      "outputs": [
        {
          "output_type": "stream",
          "name": "stdout",
          "text": [
            "Informe um número: -5\n",
            "-5.0\n",
            "-15.0\n"
          ]
        }
      ]
    },
    {
      "cell_type": "code",
      "source": [
        "# Escreva um algoritmo que recebe 2 valores inteiros e escreve na tela qual é o maior.\n",
        "\n",
        "n1 = int(input('Digite um número: '))\n",
        "print(n1)\n",
        "n2 = int(input('Informe outro número: '))\n",
        "print(n2)\n",
        "\n",
        "if (n1 > n2):\n",
        "   print(n1 ,'é maior que', n2)\n",
        "else:\n",
        "   print(n2 ,'é maior que', n1)"
      ],
      "metadata": {
        "colab": {
          "base_uri": "https://localhost:8080/"
        },
        "id": "oorvq2Nrp9Iy",
        "outputId": "974bf6a9-be5f-40f6-cba8-37a2e3596b4b"
      },
      "execution_count": 1,
      "outputs": [
        {
          "output_type": "stream",
          "name": "stdout",
          "text": [
            "Digite um número: 5\n",
            "5\n",
            "Informe outro número: 6\n",
            "6\n",
            "6 é maior que 5\n"
          ]
        }
      ]
    }
  ]
}